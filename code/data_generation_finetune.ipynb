{
 "cells": [
  {
   "cell_type": "code",
   "execution_count": 22,
   "id": "17f6725d",
   "metadata": {},
   "outputs": [],
   "source": [
    "import gzip\n",
    "import os\n",
    "import pandas as pd\n",
    "from tqdm.auto import tqdm\n",
    "import numpy as np"
   ]
  },
  {
   "cell_type": "code",
   "execution_count": 21,
   "id": "dfc1edbf",
   "metadata": {},
   "outputs": [
    {
     "data": {
      "text/plain": [
       "(41, 21)"
      ]
     },
     "execution_count": 21,
     "metadata": {},
     "output_type": "execute_result"
    }
   ],
   "source": [
    "sample_data = pd.read_csv('../data/other/OSD-524-samples.csv') # Change this sample file name to get the corrsponding sample csv\n",
    "sample_name_list = np.unique(sample_data['Sample Name'])\n",
    "sample_data.shape"
   ]
  },
  {
   "cell_type": "code",
   "execution_count": 23,
   "id": "77dfc456",
   "metadata": {},
   "outputs": [
    {
     "data": {
      "text/plain": [
       "Index(['Source Name', 'Sample Name', 'Characteristics: Organism',\n",
       "       'Characteristics: Strain', 'Characteristics: Genotype',\n",
       "       'Characteristics: Material Type', 'Factor Value: Ionizing Radiation',\n",
       "       'Factor Value: Generation', 'Protocol REF', 'Protocol REF.1',\n",
       "       'Parameter Value: ionizing radiation energy',\n",
       "       'Parameter Value: exposure duration',\n",
       "       'Parameter Value: absorbed radiation dose',\n",
       "       'Parameter Value: absorbed radiation dose rate',\n",
       "       'Parameter Value: ionizing radiation categorized by source',\n",
       "       'Protocol REF.2', 'Parameter Value: Sample Preservation Method',\n",
       "       'Parameter Value: Sample Storage Temperature',\n",
       "       'Parameter Value: Age at time of sample collection',\n",
       "       'Comment: Animal Source', 'Comment: Parental Treatment'],\n",
       "      dtype='object')"
      ]
     },
     "execution_count": 23,
     "metadata": {},
     "output_type": "execute_result"
    }
   ],
   "source": [
    "sample_data.columns"
   ]
  },
  {
   "cell_type": "code",
   "execution_count": 24,
   "id": "dabff197",
   "metadata": {},
   "outputs": [
    {
     "name": "stderr",
     "output_type": "stream",
     "text": [
      "100%|██████████| 2/2 [00:00<00:00, 57.13it/s]"
     ]
    },
    {
     "name": "stdout",
     "output_type": "stream",
     "text": [
      "6000 6000 6000 6000\n"
     ]
    },
    {
     "name": "stderr",
     "output_type": "stream",
     "text": [
      "\n"
     ]
    }
   ],
   "source": [
    "directory = '../data/raw/gz'\n",
    "notation_list = []\n",
    "dna_list = []\n",
    "mass_list = []\n",
    "filename_list = []\n",
    "label_list = []\n",
    "LIMIT = 3000\n",
    "label_name = 'Factor Value: Generation'\n",
    "\n",
    "if LIMIT:\n",
    "    LIMIT = LIMIT - LIMIT % 4 - 1\n",
    "\n",
    "for filename in tqdm(os.listdir(directory)):\n",
    "    if filename.endswith('.gz'):\n",
    "        for name in sample_name_list:\n",
    "            if name in filename:\n",
    "                label = sample_data[sample_data['Sample Name'] == name][label_name].values[0]\n",
    "                break\n",
    "        with gzip.open(os.path.join(directory, filename), 'rb') as file:\n",
    "            count = 0\n",
    "            c = 0\n",
    "            for line in file:\n",
    "                line = line.decode('utf-8')\n",
    "                line = line.replace('\\n', '')\n",
    "                if count % 4 == 0:\n",
    "                    notation_list.append(line[1:])\n",
    "                if count % 4 == 1:\n",
    "                    dna_list.append(line)\n",
    "                if count % 4 == 3:\n",
    "                    mass_list.append(line[1:])\n",
    "                    filename_list.append(filename)\n",
    "                    label_list.append(label)\n",
    "                    c += 1\n",
    "                count += 1\n",
    "                if LIMIT and c > LIMIT:\n",
    "                    break\n",
    "\n",
    "print(len(notation_list), len(dna_list), len(mass_list), len(filename_list))"
   ]
  },
  {
   "cell_type": "code",
   "execution_count": 28,
   "id": "99f0a970",
   "metadata": {},
   "outputs": [
    {
     "name": "stdout",
     "output_type": "stream",
     "text": [
      "(6000, 5)\n"
     ]
    }
   ],
   "source": [
    "data = pd.DataFrame({\n",
    "    'notation': notation_list,\n",
    "    'DNA': dna_list,\n",
    "    'mass': mass_list,\n",
    "    'filename': filename_list,\n",
    "    'label': label_list\n",
    "})\n",
    "print(data.shape)\n",
    "\n",
    "temp = input(\"Enter a value for your data processing, make sure the value is consistent during the whole process: \")\n",
    "temp.replace(\" \", \"\")\n",
    "\n",
    "\n",
    "data.to_csv(f'../data/intermediate/{temp}_dna_data.csv', index=False)"
   ]
  },
  {
   "cell_type": "code",
   "execution_count": 26,
   "id": "700cabc5",
   "metadata": {},
   "outputs": [
    {
     "data": {
      "text/html": [
       "<div>\n",
       "<style scoped>\n",
       "    .dataframe tbody tr th:only-of-type {\n",
       "        vertical-align: middle;\n",
       "    }\n",
       "\n",
       "    .dataframe tbody tr th {\n",
       "        vertical-align: top;\n",
       "    }\n",
       "\n",
       "    .dataframe thead th {\n",
       "        text-align: right;\n",
       "    }\n",
       "</style>\n",
       "<table border=\"1\" class=\"dataframe\">\n",
       "  <thead>\n",
       "    <tr style=\"text-align: right;\">\n",
       "      <th></th>\n",
       "      <th>notation</th>\n",
       "      <th>DNA</th>\n",
       "      <th>mass</th>\n",
       "      <th>filename</th>\n",
       "      <th>label</th>\n",
       "    </tr>\n",
       "  </thead>\n",
       "  <tbody>\n",
       "    <tr>\n",
       "      <th>0</th>\n",
       "      <td>SRR5756263.1 1 length=150</td>\n",
       "      <td>NTTATATAAGATAAAGGTTTTAATTGTATTAAGTGATAGTTAAGTC...</td>\n",
       "      <td>&lt;AAAKKKKAAKKKAFKAFFAKKKKAKKKF,FF,AKFF,,FFKKKKF...</td>\n",
       "      <td>GLDS-524_wgbs_GSM2684058_R1_raw.fastq.gz</td>\n",
       "      <td>F1</td>\n",
       "    </tr>\n",
       "    <tr>\n",
       "      <th>1</th>\n",
       "      <td>SRR5756263.2 2 length=150</td>\n",
       "      <td>NTTTTAAATGTGAATATATTTGATTTTTTTTGGTTAATTTGATTTG...</td>\n",
       "      <td>AAFFFKKKKFKKKKKKKKKKKKKFFKKKK7AFAKKKK,FKKKKKKK...</td>\n",
       "      <td>GLDS-524_wgbs_GSM2684058_R1_raw.fastq.gz</td>\n",
       "      <td>F1</td>\n",
       "    </tr>\n",
       "    <tr>\n",
       "      <th>2</th>\n",
       "      <td>SRR5756263.3 3 length=150</td>\n",
       "      <td>NAATTAAAATTATAAATATTGGAATTAAGAATATTTAAGTGTTCGG...</td>\n",
       "      <td>AAFFKKKKKKKKKKAKAKKKFFAKFKKKKKKKAKKKFK7KKKKK,,...</td>\n",
       "      <td>GLDS-524_wgbs_GSM2684058_R1_raw.fastq.gz</td>\n",
       "      <td>F1</td>\n",
       "    </tr>\n",
       "    <tr>\n",
       "      <th>3</th>\n",
       "      <td>SRR5756263.4 4 length=150</td>\n",
       "      <td>NATTATAATTTATTGTAGTATTTTGGAGAAATGTGTTATTATTGAA...</td>\n",
       "      <td>AAF&lt;FKKKKKKKKKKKKKAKFKKKAFKKKKKA77FKKKKKKKKKKK...</td>\n",
       "      <td>GLDS-524_wgbs_GSM2684058_R1_raw.fastq.gz</td>\n",
       "      <td>F1</td>\n",
       "    </tr>\n",
       "    <tr>\n",
       "      <th>4</th>\n",
       "      <td>SRR5756263.5 5 length=150</td>\n",
       "      <td>NTAGGAGTGTTGGTAGATGTGATATAAATTAAAGGCATTATTATTA...</td>\n",
       "      <td>AAFFFK,F&lt;FFFFKKKKKAFKKKKKKKKKFKKKK,AAFKFFKKFKA...</td>\n",
       "      <td>GLDS-524_wgbs_GSM2684058_R1_raw.fastq.gz</td>\n",
       "      <td>F1</td>\n",
       "    </tr>\n",
       "  </tbody>\n",
       "</table>\n",
       "</div>"
      ],
      "text/plain": [
       "                    notation  \\\n",
       "0  SRR5756263.1 1 length=150   \n",
       "1  SRR5756263.2 2 length=150   \n",
       "2  SRR5756263.3 3 length=150   \n",
       "3  SRR5756263.4 4 length=150   \n",
       "4  SRR5756263.5 5 length=150   \n",
       "\n",
       "                                                 DNA  \\\n",
       "0  NTTATATAAGATAAAGGTTTTAATTGTATTAAGTGATAGTTAAGTC...   \n",
       "1  NTTTTAAATGTGAATATATTTGATTTTTTTTGGTTAATTTGATTTG...   \n",
       "2  NAATTAAAATTATAAATATTGGAATTAAGAATATTTAAGTGTTCGG...   \n",
       "3  NATTATAATTTATTGTAGTATTTTGGAGAAATGTGTTATTATTGAA...   \n",
       "4  NTAGGAGTGTTGGTAGATGTGATATAAATTAAAGGCATTATTATTA...   \n",
       "\n",
       "                                                mass  \\\n",
       "0  <AAAKKKKAAKKKAFKAFFAKKKKAKKKF,FF,AKFF,,FFKKKKF...   \n",
       "1  AAFFFKKKKFKKKKKKKKKKKKKFFKKKK7AFAKKKK,FKKKKKKK...   \n",
       "2  AAFFKKKKKKKKKKAKAKKKFFAKFKKKKKKKAKKKFK7KKKKK,,...   \n",
       "3  AAF<FKKKKKKKKKKKKKAKFKKKAFKKKKKA77FKKKKKKKKKKK...   \n",
       "4  AAFFFK,F<FFFFKKKKKAFKKKKKKKKKFKKKK,AAFKFFKKFKA...   \n",
       "\n",
       "                                   filename label  \n",
       "0  GLDS-524_wgbs_GSM2684058_R1_raw.fastq.gz    F1  \n",
       "1  GLDS-524_wgbs_GSM2684058_R1_raw.fastq.gz    F1  \n",
       "2  GLDS-524_wgbs_GSM2684058_R1_raw.fastq.gz    F1  \n",
       "3  GLDS-524_wgbs_GSM2684058_R1_raw.fastq.gz    F1  \n",
       "4  GLDS-524_wgbs_GSM2684058_R1_raw.fastq.gz    F1  "
      ]
     },
     "execution_count": 26,
     "metadata": {},
     "output_type": "execute_result"
    }
   ],
   "source": [
    "data.head(5)"
   ]
  },
  {
   "cell_type": "code",
   "execution_count": 27,
   "id": "37d3f114",
   "metadata": {},
   "outputs": [
    {
     "name": "stdout",
     "output_type": "stream",
     "text": [
      "F1: 100.00%\n"
     ]
    }
   ],
   "source": [
    "# Label proportion\n",
    "from collections import Counter\n",
    "my_list = list(data['label'])\n",
    "element_count = Counter(my_list)\n",
    "total_elements = len(my_list)\n",
    "element_percentages = {key: (count / total_elements) * 100 for key, count in element_count.items()}\n",
    "for key, percentage in element_percentages.items():\n",
    "    print(f\"{key}: {percentage:.2f}%\")"
   ]
  },
  {
   "cell_type": "code",
   "execution_count": null,
   "id": "fbb5e523",
   "metadata": {},
   "outputs": [],
   "source": [
    "# # Check\n",
    "# count = 5\n",
    "# with gzip.open('../data/GLDS-524_wgbs_GSM2684058_R1_raw.fastq.gz', 'rb') as file:\n",
    "#     for line in file:\n",
    "#         line = line.decode('utf-8')\n",
    "#         print(line)\n",
    "#         count -= 1\n",
    "#         if count < 1:\n",
    "#             break"
   ]
  }
 ],
 "metadata": {
  "kernelspec": {
   "display_name": "Python 3 (ipykernel)",
   "language": "python",
   "name": "python3"
  },
  "language_info": {
   "codemirror_mode": {
    "name": "ipython",
    "version": 3
   },
   "file_extension": ".py",
   "mimetype": "text/x-python",
   "name": "python",
   "nbconvert_exporter": "python",
   "pygments_lexer": "ipython3",
   "version": "3.11.2"
  }
 },
 "nbformat": 4,
 "nbformat_minor": 5
}
