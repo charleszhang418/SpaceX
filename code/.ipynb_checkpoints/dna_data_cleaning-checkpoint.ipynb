{
 "cells": [
  {
   "cell_type": "code",
   "execution_count": 1,
   "id": "17f6725d",
   "metadata": {},
   "outputs": [],
   "source": [
    "import gzip\n",
    "import os\n",
    "import pandas as pd\n",
    "from tqdm.auto import tqdm\n",
    "import numpy as np"
   ]
  },
  {
   "cell_type": "code",
   "execution_count": 2,
   "id": "4ccd2627",
   "metadata": {},
   "outputs": [
    {
     "data": {
      "text/plain": [
       "(62, 29)"
      ]
     },
     "execution_count": 2,
     "metadata": {},
     "output_type": "execute_result"
    }
   ],
   "source": [
    "sample_data = pd.read_csv('../data/OSD-466-samples.csv')\n",
    "sample_name_list = np.unique(sample_data['Sample Name'])\n",
    "sample_data.shape"
   ]
  },
  {
   "cell_type": "code",
   "execution_count": 3,
   "id": "dabff197",
   "metadata": {},
   "outputs": [
    {
     "data": {
      "application/vnd.jupyter.widget-view+json": {
       "model_id": "cf7b687ca8784c019c286497e08b5151",
       "version_major": 2,
       "version_minor": 0
      },
      "text/plain": [
       "  0%|          | 0/12 [00:00<?, ?it/s]"
      ]
     },
     "metadata": {},
     "output_type": "display_data"
    },
    {
     "name": "stdout",
     "output_type": "stream",
     "text": [
      "36000 36000 36000 36000\n"
     ]
    }
   ],
   "source": [
    "directory = '../data/gz'\n",
    "notation_list = []\n",
    "dna_list = []\n",
    "mass_list = []\n",
    "filename_list = []\n",
    "label_list = []\n",
    "LIMIT = 3000\n",
    "label_name = 'Factor Value: Genotype'\n",
    "\n",
    "if LIMIT:\n",
    "    LIMIT = LIMIT - LIMIT % 4 - 1\n",
    "\n",
    "for filename in tqdm(os.listdir(directory)):\n",
    "    if filename.endswith('.gz'):\n",
    "        for name in sample_name_list:\n",
    "            if name in filename:\n",
    "                label = sample_data[sample_data['Sample Name'] == name][label_name].values[0]\n",
    "                break\n",
    "        with gzip.open(os.path.join(directory, filename), 'rb') as file:\n",
    "            count = 0\n",
    "            c = 0\n",
    "            for line in file:\n",
    "                line = line.decode('utf-8')\n",
    "                line = line.replace('\\n', '')\n",
    "                if count % 4 == 0:\n",
    "                    notation_list.append(line[1:])\n",
    "                if count % 4 == 1:\n",
    "                    dna_list.append(line)\n",
    "                if count % 4 == 3:\n",
    "                    mass_list.append(line[1:])\n",
    "                    filename_list.append(filename)\n",
    "                    label_list.append(label)\n",
    "                    c += 1\n",
    "                count += 1\n",
    "                if LIMIT and c > LIMIT:\n",
    "                    break\n",
    "\n",
    "print(len(notation_list), len(dna_list), len(mass_list), len(filename_list))"
   ]
  },
  {
   "cell_type": "code",
   "execution_count": 4,
   "id": "99f0a970",
   "metadata": {},
   "outputs": [
    {
     "name": "stdout",
     "output_type": "stream",
     "text": [
      "(36000, 5)\n"
     ]
    }
   ],
   "source": [
    "data = pd.DataFrame({\n",
    "    'notation': notation_list,\n",
    "    'DNA': dna_list,\n",
    "    'mass': mass_list,\n",
    "    'filename': filename_list,\n",
    "    'label': label_list\n",
    "})\n",
    "print(data.shape)\n",
    "data.to_csv('../data/dna_data.csv', index=False)"
   ]
  },
  {
   "cell_type": "code",
   "execution_count": 5,
   "id": "700cabc5",
   "metadata": {},
   "outputs": [
    {
     "data": {
      "text/html": [
       "<div>\n",
       "<style scoped>\n",
       "    .dataframe tbody tr th:only-of-type {\n",
       "        vertical-align: middle;\n",
       "    }\n",
       "\n",
       "    .dataframe tbody tr th {\n",
       "        vertical-align: top;\n",
       "    }\n",
       "\n",
       "    .dataframe thead th {\n",
       "        text-align: right;\n",
       "    }\n",
       "</style>\n",
       "<table border=\"1\" class=\"dataframe\">\n",
       "  <thead>\n",
       "    <tr style=\"text-align: right;\">\n",
       "      <th></th>\n",
       "      <th>notation</th>\n",
       "      <th>DNA</th>\n",
       "      <th>mass</th>\n",
       "      <th>filename</th>\n",
       "      <th>label</th>\n",
       "    </tr>\n",
       "  </thead>\n",
       "  <tbody>\n",
       "    <tr>\n",
       "      <th>0</th>\n",
       "      <td>A00654:48:HN52TDRXY:1:2101:5990:1000 2:N:0:AGT...</td>\n",
       "      <td>ATATTTATGGCTGGACTTGAACTTACTAAGTAGACCATGCTGGCCT...</td>\n",
       "      <td>FFFFFFFFFFFFFFFFFFFFFFFFFFFFFFFFFFFFFFFFFFFFFF...</td>\n",
       "      <td>GLDS-466_metagenomics_RR10_FCS_VIV_WT_V1_R2_HR...</td>\n",
       "      <td>Vivarium Control</td>\n",
       "    </tr>\n",
       "    <tr>\n",
       "      <th>1</th>\n",
       "      <td>A00654:48:HN52TDRXY:1:2101:6840:1000 2:N:0:AGT...</td>\n",
       "      <td>CCTACGCTCAGCGAGGCGACTTTGAGAGATGCGCCGAAGAATCTTT...</td>\n",
       "      <td>FFFF:F,F:FFFFFFFFFFF,FFF::FFFFFFFFF,,F,,FFF,F:...</td>\n",
       "      <td>GLDS-466_metagenomics_RR10_FCS_VIV_WT_V1_R2_HR...</td>\n",
       "      <td>Vivarium Control</td>\n",
       "    </tr>\n",
       "    <tr>\n",
       "      <th>2</th>\n",
       "      <td>A00654:48:HN52TDRXY:1:2101:9498:1000 2:N:0:AGT...</td>\n",
       "      <td>GCCTTGACCCATGCCTGATAAGGGAGGGCCCGGTCGACGCCCAGGA...</td>\n",
       "      <td>:FFFFFFFFFFFFFFFF:FFFFFFFFFF,FF:FFFFF:FFFFFFFF...</td>\n",
       "      <td>GLDS-466_metagenomics_RR10_FCS_VIV_WT_V1_R2_HR...</td>\n",
       "      <td>Vivarium Control</td>\n",
       "    </tr>\n",
       "    <tr>\n",
       "      <th>3</th>\n",
       "      <td>A00654:48:HN52TDRXY:1:2101:15067:1000 2:N:0:AG...</td>\n",
       "      <td>GGACAGGGCCGCAGCATATTCTCATTAAACGGCTGGCCGTCATGGT...</td>\n",
       "      <td>FFFFFFFFFFFFFFFFFFFFFFFFFFFFFFFFFFFFFFFFFFFFFF...</td>\n",
       "      <td>GLDS-466_metagenomics_RR10_FCS_VIV_WT_V1_R2_HR...</td>\n",
       "      <td>Vivarium Control</td>\n",
       "    </tr>\n",
       "    <tr>\n",
       "      <th>4</th>\n",
       "      <td>A00654:48:HN52TDRXY:1:2101:1298:1016 2:N:0:AGT...</td>\n",
       "      <td>TCCTCCATCCATGCTTTGAATGTCTGGAACCCTGCCTCTGTGTTAC...</td>\n",
       "      <td>FFFFFFFFFF:FFFFFFFFFFFFFFFFFFFFFFFFFFFF:FFFF:F...</td>\n",
       "      <td>GLDS-466_metagenomics_RR10_FCS_VIV_WT_V1_R2_HR...</td>\n",
       "      <td>Vivarium Control</td>\n",
       "    </tr>\n",
       "  </tbody>\n",
       "</table>\n",
       "</div>"
      ],
      "text/plain": [
       "                                            notation  \\\n",
       "0  A00654:48:HN52TDRXY:1:2101:5990:1000 2:N:0:AGT...   \n",
       "1  A00654:48:HN52TDRXY:1:2101:6840:1000 2:N:0:AGT...   \n",
       "2  A00654:48:HN52TDRXY:1:2101:9498:1000 2:N:0:AGT...   \n",
       "3  A00654:48:HN52TDRXY:1:2101:15067:1000 2:N:0:AG...   \n",
       "4  A00654:48:HN52TDRXY:1:2101:1298:1016 2:N:0:AGT...   \n",
       "\n",
       "                                                 DNA  \\\n",
       "0  ATATTTATGGCTGGACTTGAACTTACTAAGTAGACCATGCTGGCCT...   \n",
       "1  CCTACGCTCAGCGAGGCGACTTTGAGAGATGCGCCGAAGAATCTTT...   \n",
       "2  GCCTTGACCCATGCCTGATAAGGGAGGGCCCGGTCGACGCCCAGGA...   \n",
       "3  GGACAGGGCCGCAGCATATTCTCATTAAACGGCTGGCCGTCATGGT...   \n",
       "4  TCCTCCATCCATGCTTTGAATGTCTGGAACCCTGCCTCTGTGTTAC...   \n",
       "\n",
       "                                                mass  \\\n",
       "0  FFFFFFFFFFFFFFFFFFFFFFFFFFFFFFFFFFFFFFFFFFFFFF...   \n",
       "1  FFFF:F,F:FFFFFFFFFFF,FFF::FFFFFFFFF,,F,,FFF,F:...   \n",
       "2  :FFFFFFFFFFFFFFFF:FFFFFFFFFF,FF:FFFFF:FFFFFFFF...   \n",
       "3  FFFFFFFFFFFFFFFFFFFFFFFFFFFFFFFFFFFFFFFFFFFFFF...   \n",
       "4  FFFFFFFFFF:FFFFFFFFFFFFFFFFFFFFFFFFFFFF:FFFF:F...   \n",
       "\n",
       "                                            filename             label  \n",
       "0  GLDS-466_metagenomics_RR10_FCS_VIV_WT_V1_R2_HR...  Vivarium Control  \n",
       "1  GLDS-466_metagenomics_RR10_FCS_VIV_WT_V1_R2_HR...  Vivarium Control  \n",
       "2  GLDS-466_metagenomics_RR10_FCS_VIV_WT_V1_R2_HR...  Vivarium Control  \n",
       "3  GLDS-466_metagenomics_RR10_FCS_VIV_WT_V1_R2_HR...  Vivarium Control  \n",
       "4  GLDS-466_metagenomics_RR10_FCS_VIV_WT_V1_R2_HR...  Vivarium Control  "
      ]
     },
     "execution_count": 5,
     "metadata": {},
     "output_type": "execute_result"
    }
   ],
   "source": [
    "data.head(5)"
   ]
  },
  {
   "cell_type": "code",
   "execution_count": null,
   "id": "fbb5e523",
   "metadata": {},
   "outputs": [],
   "source": [
    "# # Check\n",
    "# count = 5\n",
    "# with gzip.open('../data/GLDS-524_wgbs_GSM2684058_R1_raw.fastq.gz', 'rb') as file:\n",
    "#     for line in file:\n",
    "#         line = line.decode('utf-8')\n",
    "#         print(line)\n",
    "#         count -= 1\n",
    "#         if count < 1:\n",
    "#             break"
   ]
  }
 ],
 "metadata": {
  "kernelspec": {
   "display_name": "Python 3 (ipykernel)",
   "language": "python",
   "name": "python3"
  },
  "language_info": {
   "codemirror_mode": {
    "name": "ipython",
    "version": 3
   },
   "file_extension": ".py",
   "mimetype": "text/x-python",
   "name": "python",
   "nbconvert_exporter": "python",
   "pygments_lexer": "ipython3",
   "version": "3.9.7"
  }
 },
 "nbformat": 4,
 "nbformat_minor": 5
}
