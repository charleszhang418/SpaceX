{
 "cells": [
  {
   "cell_type": "code",
   "execution_count": 42,
   "id": "17f6725d",
   "metadata": {},
   "outputs": [],
   "source": [
    "import gzip\n",
    "import pandas as pd"
   ]
  },
  {
   "cell_type": "code",
   "execution_count": 43,
   "id": "e35f0b86",
   "metadata": {},
   "outputs": [
    {
     "data": {
      "text/plain": [
       "(1250, 1250, 1250)"
      ]
     },
     "execution_count": 43,
     "metadata": {},
     "output_type": "execute_result"
    }
   ],
   "source": [
    "notation_list = []\n",
    "dna_list = []\n",
    "mass_list = []\n",
    "\n",
    "LIMIT = 5000\n",
    "count = 0\n",
    "\n",
    "LIMIT = LIMIT - LIMIT % 4 - 1\n",
    "\n",
    "with gzip.open('../data/GLDS-524_wgbs_GSM2684058_R1_raw.fastq.gz', 'rb') as file:\n",
    "    for line in file:\n",
    "        line = line.decode('utf-8')\n",
    "        line = line.replace('\\n', '')\n",
    "        if count % 4 == 0:\n",
    "            notation_list.append(line[1:])\n",
    "        if count % 4 == 1:\n",
    "            dna_list.append(line)\n",
    "        if count % 4 == 3:\n",
    "            mass_list.append(line[1:])\n",
    "        count += 1\n",
    "        if LIMIT and count > LIMIT:\n",
    "            break\n",
    "len(notation_list), len(dna_list), len(mass_list)"
   ]
  },
  {
   "cell_type": "code",
   "execution_count": 44,
   "id": "99f0a970",
   "metadata": {},
   "outputs": [
    {
     "name": "stdout",
     "output_type": "stream",
     "text": [
      "(1250, 3)\n"
     ]
    }
   ],
   "source": [
    "data = pd.DataFrame({\n",
    "    'notation': notation_list,\n",
    "    'DNA': dna_list,\n",
    "    'mass': mass_list\n",
    "})\n",
    "print(data.shape)\n",
    "data.to_csv('../data/dna_data.csv', index=False)"
   ]
  },
  {
   "cell_type": "code",
   "execution_count": 47,
   "id": "700cabc5",
   "metadata": {},
   "outputs": [
    {
     "data": {
      "text/html": [
       "<div>\n",
       "<style scoped>\n",
       "    .dataframe tbody tr th:only-of-type {\n",
       "        vertical-align: middle;\n",
       "    }\n",
       "\n",
       "    .dataframe tbody tr th {\n",
       "        vertical-align: top;\n",
       "    }\n",
       "\n",
       "    .dataframe thead th {\n",
       "        text-align: right;\n",
       "    }\n",
       "</style>\n",
       "<table border=\"1\" class=\"dataframe\">\n",
       "  <thead>\n",
       "    <tr style=\"text-align: right;\">\n",
       "      <th></th>\n",
       "      <th>notation</th>\n",
       "      <th>DNA</th>\n",
       "      <th>mass</th>\n",
       "    </tr>\n",
       "  </thead>\n",
       "  <tbody>\n",
       "    <tr>\n",
       "      <th>0</th>\n",
       "      <td>SRR5756263.1 1 length=150</td>\n",
       "      <td>NTTATATAAGATAAAGGTTTTAATTGTATTAAGTGATAGTTAAGTC...</td>\n",
       "      <td>&lt;AAAKKKKAAKKKAFKAFFAKKKKAKKKF,FF,AKFF,,FFKKKKF...</td>\n",
       "    </tr>\n",
       "    <tr>\n",
       "      <th>1</th>\n",
       "      <td>SRR5756263.2 2 length=150</td>\n",
       "      <td>NTTTTAAATGTGAATATATTTGATTTTTTTTGGTTAATTTGATTTG...</td>\n",
       "      <td>AAFFFKKKKFKKKKKKKKKKKKKFFKKKK7AFAKKKK,FKKKKKKK...</td>\n",
       "    </tr>\n",
       "    <tr>\n",
       "      <th>2</th>\n",
       "      <td>SRR5756263.3 3 length=150</td>\n",
       "      <td>NAATTAAAATTATAAATATTGGAATTAAGAATATTTAAGTGTTCGG...</td>\n",
       "      <td>AAFFKKKKKKKKKKAKAKKKFFAKFKKKKKKKAKKKFK7KKKKK,,...</td>\n",
       "    </tr>\n",
       "    <tr>\n",
       "      <th>3</th>\n",
       "      <td>SRR5756263.4 4 length=150</td>\n",
       "      <td>NATTATAATTTATTGTAGTATTTTGGAGAAATGTGTTATTATTGAA...</td>\n",
       "      <td>AAF&lt;FKKKKKKKKKKKKKAKFKKKAFKKKKKA77FKKKKKKKKKKK...</td>\n",
       "    </tr>\n",
       "    <tr>\n",
       "      <th>4</th>\n",
       "      <td>SRR5756263.5 5 length=150</td>\n",
       "      <td>NTAGGAGTGTTGGTAGATGTGATATAAATTAAAGGCATTATTATTA...</td>\n",
       "      <td>AAFFFK,F&lt;FFFFKKKKKAFKKKKKKKKKFKKKK,AAFKFFKKFKA...</td>\n",
       "    </tr>\n",
       "  </tbody>\n",
       "</table>\n",
       "</div>"
      ],
      "text/plain": [
       "                    notation  \\\n",
       "0  SRR5756263.1 1 length=150   \n",
       "1  SRR5756263.2 2 length=150   \n",
       "2  SRR5756263.3 3 length=150   \n",
       "3  SRR5756263.4 4 length=150   \n",
       "4  SRR5756263.5 5 length=150   \n",
       "\n",
       "                                                 DNA  \\\n",
       "0  NTTATATAAGATAAAGGTTTTAATTGTATTAAGTGATAGTTAAGTC...   \n",
       "1  NTTTTAAATGTGAATATATTTGATTTTTTTTGGTTAATTTGATTTG...   \n",
       "2  NAATTAAAATTATAAATATTGGAATTAAGAATATTTAAGTGTTCGG...   \n",
       "3  NATTATAATTTATTGTAGTATTTTGGAGAAATGTGTTATTATTGAA...   \n",
       "4  NTAGGAGTGTTGGTAGATGTGATATAAATTAAAGGCATTATTATTA...   \n",
       "\n",
       "                                                mass  \n",
       "0  <AAAKKKKAAKKKAFKAFFAKKKKAKKKF,FF,AKFF,,FFKKKKF...  \n",
       "1  AAFFFKKKKFKKKKKKKKKKKKKFFKKKK7AFAKKKK,FKKKKKKK...  \n",
       "2  AAFFKKKKKKKKKKAKAKKKFFAKFKKKKKKKAKKKFK7KKKKK,,...  \n",
       "3  AAF<FKKKKKKKKKKKKKAKFKKKAFKKKKKA77FKKKKKKKKKKK...  \n",
       "4  AAFFFK,F<FFFFKKKKKAFKKKKKKKKKFKKKK,AAFKFFKKFKA...  "
      ]
     },
     "execution_count": 47,
     "metadata": {},
     "output_type": "execute_result"
    }
   ],
   "source": [
    "data.head(5)"
   ]
  },
  {
   "cell_type": "code",
   "execution_count": 50,
   "id": "fbb5e523",
   "metadata": {},
   "outputs": [],
   "source": [
    "# # Check\n",
    "# count = 5\n",
    "# with gzip.open('../data/GLDS-524_wgbs_GSM2684058_R1_raw.fastq.gz', 'rb') as file:\n",
    "#     for line in file:\n",
    "#         line = line.decode('utf-8')\n",
    "#         print(line)\n",
    "#         count -= 1\n",
    "#         if count < 1:\n",
    "#             break"
   ]
  }
 ],
 "metadata": {
  "kernelspec": {
   "display_name": "Python 3 (ipykernel)",
   "language": "python",
   "name": "python3"
  },
  "language_info": {
   "codemirror_mode": {
    "name": "ipython",
    "version": 3
   },
   "file_extension": ".py",
   "mimetype": "text/x-python",
   "name": "python",
   "nbconvert_exporter": "python",
   "pygments_lexer": "ipython3",
   "version": "3.9.7"
  }
 },
 "nbformat": 4,
 "nbformat_minor": 5
}
