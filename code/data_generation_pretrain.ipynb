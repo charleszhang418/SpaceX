{
 "cells": [
  {
   "cell_type": "code",
   "execution_count": 9,
   "id": "c75adf9b",
   "metadata": {},
   "outputs": [],
   "source": [
    "import os\n",
    "import pandas as pd\n",
    "import numpy as np"
   ]
  },
  {
   "cell_type": "code",
   "execution_count": 10,
   "id": "21eb8e62",
   "metadata": {},
   "outputs": [],
   "source": [
    "def kmer2seq(kmers):\n",
    "    kmers_list = kmers.split(\" \")\n",
    "    bases = [kmer[0] for kmer in kmers_list[0:-1]]\n",
    "    bases.append(kmers_list[-1])\n",
    "    seq = \"\".join(bases)\n",
    "    assert len(seq) == len(kmers_list) + len(kmers_list[0]) - 1\n",
    "    return seq\n",
    "\n",
    "def seq2kmer(seq, k):\n",
    "    kmer = [seq[x:x+k] for x in range(len(seq)+1-k)]\n",
    "    kmers = \" \".join(kmer)\n",
    "    return kmers"
   ]
  },
  {
   "cell_type": "markdown",
   "id": "64ec1ef9",
   "metadata": {},
   "source": [
    "## 1 Seq2kmer"
   ]
  },
  {
   "cell_type": "code",
   "execution_count": null,
   "id": "4c3d0a45",
   "metadata": {},
   "outputs": [],
   "source": [
    "# Run this cell to get a distinct name for you data\n",
    "if not temp:\n",
    "    temp = input(\"Enter a value for your data processing, make sure the value is consistent during the whole process: \")\n",
    "    temp.replace(\" \", \"\")"
   ]
  },
  {
   "cell_type": "code",
   "execution_count": 25,
   "id": "a3d73597",
   "metadata": {},
   "outputs": [
    {
     "name": "stdout",
     "output_type": "stream",
     "text": [
      "(6000, 5)\n",
      "(5000, 5)\n"
     ]
    }
   ],
   "source": [
    "dna_data = pd.read_csv(f'../data/intermediate/{temp}_dna_data.csv')\n",
    "print(dna_data.shape)\n",
    "dna_data = dna_data[dna_data['label'] == 'F1']\n",
    "dna_data = dna_data.sample(5000)\n",
    "print(dna_data.shape)"
   ]
  },
  {
   "cell_type": "code",
   "execution_count": 26,
   "id": "fc92d059",
   "metadata": {},
   "outputs": [],
   "source": [
    "dna_str = ''\n",
    "for dna in list(dna_data['DNA']):\n",
    "    dna_str += seq2kmer(dna, 6)\n",
    "    dna_str += '\\n'"
   ]
  },
  {
   "cell_type": "code",
   "execution_count": 22,
   "id": "eea8c66d",
   "metadata": {},
   "outputs": [],
   "source": [
    "file_path = f'../data/intermediate/{temp}_dna_str.txt'\n",
    "with open(file_path, 'w') as file:\n",
    "    file.write(dna_str)"
   ]
  },
  {
   "cell_type": "code",
   "execution_count": 23,
   "id": "3c29446c",
   "metadata": {},
   "outputs": [
    {
     "name": "stdout",
     "output_type": "stream",
     "text": [
      "Number of DNAs: 5000\n"
     ]
    }
   ],
   "source": [
    "dna_list = dna_str.split('\\n')[:-1]\n",
    "print(f'Number of DNAs: {len(dna_list)}')"
   ]
  },
  {
   "cell_type": "code",
   "execution_count": 24,
   "id": "51b79bdd",
   "metadata": {},
   "outputs": [
    {
     "name": "stderr",
     "output_type": "stream",
     "text": [
      "C:\\Users\\Charl\\AppData\\Local\\Temp\\ipykernel_32812\\4160261352.py:7: RuntimeWarning: invalid value encountered in divide\n",
      "  kde_values = np.exp(-(kde - np.mean(res))**2 / (2 * np.var(res))) / (np.sqrt(2 * np.pi * np.var(res)))\n"
     ]
    },
    {
     "data": {
      "image/png": "[encoded data removed]",
      "text/plain": [
       "<Figure size 640x480 with 1 Axes>"
      ]
     },
     "metadata": {},
     "output_type": "display_data"
    }
   ],
   "source": [
    "import matplotlib.pyplot as plt\n",
    "import numpy as np\n",
    "\n",
    "res = [len(kmer2seq(dna_str)) for dna_str in dna_list]\n",
    "plt.hist(res, density=True, bins=20, alpha=0.6, color='blue')\n",
    "kde = np.linspace(min(res), max(res), 1000)\n",
    "kde_values = np.exp(-(kde - np.mean(res))**2 / (2 * np.var(res))) / (np.sqrt(2 * np.pi * np.var(res)))\n",
    "plt.plot(kde, kde_values, color='red')\n",
    "plt.show()"
   ]
  },
  {
   "cell_type": "markdown",
   "id": "8e638d10",
   "metadata": {},
   "source": [
    "## 2 Sample data analysis"
   ]
  },
  {
   "cell_type": "code",
   "execution_count": 19,
   "id": "b779e9b8",
   "metadata": {},
   "outputs": [
    {
     "ename": "FileNotFoundError",
     "evalue": "[Errno 2] No such file or directory: '../data/other/6_3k.txt'",
     "output_type": "error",
     "traceback": [
      "\u001b[1;31m---------------------------------------------------------------------------\u001b[0m",
      "\u001b[1;31mFileNotFoundError\u001b[0m                         Traceback (most recent call last)",
      "\u001b[1;32mf:\\SpaceX\\code\\data_generation_pretrain.ipynb Cell 10\u001b[0m line \u001b[0;36m3\n\u001b[0;32m      <a href='vscode-notebook-cell:/f%3A/SpaceX/code/data_generation_pretrain.ipynb#X12sZmlsZQ%3D%3D?line=0'>1</a>\u001b[0m dna_all \u001b[39m=\u001b[39m \u001b[39m'\u001b[39m\u001b[39m'\u001b[39m\n\u001b[0;32m      <a href='vscode-notebook-cell:/f%3A/SpaceX/code/data_generation_pretrain.ipynb#X12sZmlsZQ%3D%3D?line=1'>2</a>\u001b[0m file_path \u001b[39m=\u001b[39m \u001b[39m'\u001b[39m\u001b[39m../data/other/6_3k.txt\u001b[39m\u001b[39m'\u001b[39m\n\u001b[1;32m----> <a href='vscode-notebook-cell:/f%3A/SpaceX/code/data_generation_pretrain.ipynb#X12sZmlsZQ%3D%3D?line=2'>3</a>\u001b[0m \u001b[39mwith\u001b[39;00m \u001b[39mopen\u001b[39;49m(file_path, \u001b[39m'\u001b[39;49m\u001b[39mr\u001b[39;49m\u001b[39m'\u001b[39;49m) \u001b[39mas\u001b[39;00m file:\n\u001b[0;32m      <a href='vscode-notebook-cell:/f%3A/SpaceX/code/data_generation_pretrain.ipynb#X12sZmlsZQ%3D%3D?line=3'>4</a>\u001b[0m     \u001b[39mfor\u001b[39;00m line \u001b[39min\u001b[39;00m file:\n\u001b[0;32m      <a href='vscode-notebook-cell:/f%3A/SpaceX/code/data_generation_pretrain.ipynb#X12sZmlsZQ%3D%3D?line=4'>5</a>\u001b[0m         dna_all \u001b[39m+\u001b[39m\u001b[39m=\u001b[39m line\n",
      "File \u001b[1;32mc:\\Users\\Charl\\AppData\\Local\\Programs\\Python\\Python311\\Lib\\site-packages\\IPython\\core\\interactiveshell.py:282\u001b[0m, in \u001b[0;36m_modified_open\u001b[1;34m(file, *args, **kwargs)\u001b[0m\n\u001b[0;32m    275\u001b[0m \u001b[39mif\u001b[39;00m file \u001b[39min\u001b[39;00m {\u001b[39m0\u001b[39m, \u001b[39m1\u001b[39m, \u001b[39m2\u001b[39m}:\n\u001b[0;32m    276\u001b[0m     \u001b[39mraise\u001b[39;00m \u001b[39mValueError\u001b[39;00m(\n\u001b[0;32m    277\u001b[0m         \u001b[39mf\u001b[39m\u001b[39m\"\u001b[39m\u001b[39mIPython won\u001b[39m\u001b[39m'\u001b[39m\u001b[39mt let you open fd=\u001b[39m\u001b[39m{\u001b[39;00mfile\u001b[39m}\u001b[39;00m\u001b[39m by default \u001b[39m\u001b[39m\"\u001b[39m\n\u001b[0;32m    278\u001b[0m         \u001b[39m\"\u001b[39m\u001b[39mas it is likely to crash IPython. If you know what you are doing, \u001b[39m\u001b[39m\"\u001b[39m\n\u001b[0;32m    279\u001b[0m         \u001b[39m\"\u001b[39m\u001b[39myou can use builtins\u001b[39m\u001b[39m'\u001b[39m\u001b[39m open.\u001b[39m\u001b[39m\"\u001b[39m\n\u001b[0;32m    280\u001b[0m     )\n\u001b[1;32m--> 282\u001b[0m \u001b[39mreturn\u001b[39;00m io_open(file, \u001b[39m*\u001b[39;49margs, \u001b[39m*\u001b[39;49m\u001b[39m*\u001b[39;49mkwargs)\n",
      "\u001b[1;31mFileNotFoundError\u001b[0m: [Errno 2] No such file or directory: '../data/other/6_3k.txt'"
     ]
    }
   ],
   "source": [
    "dna_all = ''\n",
    "file_path = '../data/other/6_3k.txt'\n",
    "with open(file_path, 'r') as file:\n",
    "    for line in file:\n",
    "        dna_all += line"
   ]
  },
  {
   "cell_type": "code",
   "execution_count": 25,
   "id": "b0cc9bb5",
   "metadata": {},
   "outputs": [
    {
     "name": "stdout",
     "output_type": "stream",
     "text": [
      "Number of DNAs: 3000\n"
     ]
    }
   ],
   "source": [
    "dna_list = dna_all.split('\\n')[:-1]\n",
    "print(f'Number of DNAs: {len(dna_list)}')"
   ]
  },
  {
   "cell_type": "code",
   "execution_count": 26,
   "id": "dfd8193c",
   "metadata": {},
   "outputs": [
    {
     "data": {
      "image/png": "[encoded data removed]",
      "text/plain": [
       "<Figure size 432x288 with 1 Axes>"
      ]
     },
     "metadata": {
      "needs_background": "light"
     },
     "output_type": "display_data"
    }
   ],
   "source": [
    "import matplotlib.pyplot as plt\n",
    "import numpy as np\n",
    "\n",
    "res = [len(kmer2seq(dna_str)) for dna_str in dna_list]\n",
    "plt.hist(res, density=True, bins=20, alpha=0.6, color='blue')\n",
    "kde = np.linspace(min(res), max(res), 1000)\n",
    "kde_values = np.exp(-(kde - np.mean(res))**2 / (2 * np.var(res))) / (np.sqrt(2 * np.pi * np.var(res)))\n",
    "plt.plot(kde, kde_values, color='red')\n",
    "plt.show()"
   ]
  },
  {
   "cell_type": "code",
   "execution_count": null,
   "id": "1e0ffb13",
   "metadata": {},
   "outputs": [],
   "source": []
  }
 ],
 "metadata": {
  "kernelspec": {
   "display_name": "Python 3 (ipykernel)",
   "language": "python",
   "name": "python3"
  },
  "language_info": {
   "codemirror_mode": {
    "name": "ipython",
    "version": 3
   },
   "file_extension": ".py",
   "mimetype": "text/x-python",
   "name": "python",
   "nbconvert_exporter": "python",
   "pygments_lexer": "ipython3",
   "version": "3.11.2"
  }
 },
 "nbformat": 4,
 "nbformat_minor": 5
}
