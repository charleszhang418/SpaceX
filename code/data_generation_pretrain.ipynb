{
 "cells": [
  {
   "cell_type": "code",
   "execution_count": 1,
   "id": "c75adf9b",
   "metadata": {},
   "outputs": [],
   "source": [
    "import os\n",
    "import pandas as pd\n",
    "import numpy as np"
   ]
  },
  {
   "cell_type": "code",
   "execution_count": 2,
   "id": "21eb8e62",
   "metadata": {},
   "outputs": [],
   "source": [
    "def kmer2seq(kmers):\n",
    "    kmers_list = kmers.split(\" \")\n",
    "    bases = [kmer[0] for kmer in kmers_list[0:-1]]\n",
    "    bases.append(kmers_list[-1])\n",
    "    seq = \"\".join(bases)\n",
    "    assert len(seq) == len(kmers_list) + len(kmers_list[0]) - 1\n",
    "    return seq\n",
    "\n",
    "def seq2kmer(seq, k):\n",
    "    kmer = [seq[x:x+k] for x in range(len(seq)+1-k)]\n",
    "    kmers = \" \".join(kmer)\n",
    "    return kmers"
   ]
  },
  {
   "cell_type": "markdown",
   "id": "64ec1ef9",
   "metadata": {},
   "source": [
    "## 1 Seq2kmer"
   ]
  },
  {
   "cell_type": "code",
   "execution_count": 19,
   "id": "a3d73597",
   "metadata": {},
   "outputs": [
    {
     "name": "stdout",
     "output_type": "stream",
     "text": [
      "(36000, 5)\n",
      "(12000, 5)\n"
     ]
    }
   ],
   "source": [
    "dna_data = pd.read_csv('../data/intermediate/dna_data.csv')\n",
    "print(dna_data.shape)\n",
    "dna_data = dna_data[dna_data['label'] == 'Space Flight']\n",
    "dna_data = dna_data.sample[5000]\n",
    "print(dna_data.shape)"
   ]
  },
  {
   "cell_type": "code",
   "execution_count": 20,
   "id": "fc92d059",
   "metadata": {},
   "outputs": [],
   "source": [
    "dna_str = ''\n",
    "for dna in list(dna_data['DNA']):\n",
    "    dna_str += seq2kmer(dna, 6)\n",
    "    dna_str += '\\n'"
   ]
  },
  {
   "cell_type": "code",
   "execution_count": 21,
   "id": "eea8c66d",
   "metadata": {},
   "outputs": [],
   "source": [
    "file_path = '../data/intermediate/dna_str.txt'\n",
    "with open(file_path, 'w') as file:\n",
    "    file.write(dna_str)"
   ]
  },
  {
   "cell_type": "code",
   "execution_count": 22,
   "id": "3c29446c",
   "metadata": {},
   "outputs": [
    {
     "name": "stdout",
     "output_type": "stream",
     "text": [
      "Number of DNAs: 12000\n"
     ]
    }
   ],
   "source": [
    "dna_list = dna_str.split('\\n')[:-1]\n",
    "print(f'Number of DNAs: {len(dna_list)}')"
   ]
  },
  {
   "cell_type": "code",
   "execution_count": 23,
   "id": "51b79bdd",
   "metadata": {},
   "outputs": [
    {
     "name": "stderr",
     "output_type": "stream",
     "text": [
      "/var/folders/jc/hlhpdxkj5_s73j6_9kx4sqp40000gn/T/ipykernel_76044/4160261352.py:7: RuntimeWarning: invalid value encountered in true_divide\n",
      "  kde_values = np.exp(-(kde - np.mean(res))**2 / (2 * np.var(res))) / (np.sqrt(2 * np.pi * np.var(res)))\n"
     ]
    },
    {
     "data": {
      "image/png": "[encoded data removed]",
      "text/plain": [
       "<Figure size 432x288 with 1 Axes>"
      ]
     },
     "metadata": {
      "needs_background": "light"
     },
     "output_type": "display_data"
    }
   ],
   "source": [
    "import matplotlib.pyplot as plt\n",
    "import numpy as np\n",
    "\n",
    "res = [len(kmer2seq(dna_str)) for dna_str in dna_list]\n",
    "plt.hist(res, density=True, bins=20, alpha=0.6, color='blue')\n",
    "kde = np.linspace(min(res), max(res), 1000)\n",
    "kde_values = np.exp(-(kde - np.mean(res))**2 / (2 * np.var(res))) / (np.sqrt(2 * np.pi * np.var(res)))\n",
    "plt.plot(kde, kde_values, color='red')\n",
    "plt.show()"
   ]
  },
  {
   "cell_type": "markdown",
   "id": "8e638d10",
   "metadata": {},
   "source": [
    "## 2 Sample data analysis"
   ]
  },
  {
   "cell_type": "code",
   "execution_count": 24,
   "id": "b779e9b8",
   "metadata": {},
   "outputs": [],
   "source": [
    "dna_all = ''\n",
    "file_path = '../data/other/6_3k.txt'\n",
    "with open(file_path, 'r') as file:\n",
    "    for line in file:\n",
    "        dna_all += line"
   ]
  },
  {
   "cell_type": "code",
   "execution_count": 25,
   "id": "b0cc9bb5",
   "metadata": {},
   "outputs": [
    {
     "name": "stdout",
     "output_type": "stream",
     "text": [
      "Number of DNAs: 3000\n"
     ]
    }
   ],
   "source": [
    "dna_list = dna_all.split('\\n')[:-1]\n",
    "print(f'Number of DNAs: {len(dna_list)}')"
   ]
  },
  {
   "cell_type": "code",
   "execution_count": 26,
   "id": "dfd8193c",
   "metadata": {},
   "outputs": [
    {
     "data": {
      "image/png": "[encoded data removed]",
      "text/plain": [
       "<Figure size 432x288 with 1 Axes>"
      ]
     },
     "metadata": {
      "needs_background": "light"
     },
     "output_type": "display_data"
    }
   ],
   "source": [
    "import matplotlib.pyplot as plt\n",
    "import numpy as np\n",
    "\n",
    "res = [len(kmer2seq(dna_str)) for dna_str in dna_list]\n",
    "plt.hist(res, density=True, bins=20, alpha=0.6, color='blue')\n",
    "kde = np.linspace(min(res), max(res), 1000)\n",
    "kde_values = np.exp(-(kde - np.mean(res))**2 / (2 * np.var(res))) / (np.sqrt(2 * np.pi * np.var(res)))\n",
    "plt.plot(kde, kde_values, color='red')\n",
    "plt.show()"
   ]
  },
  {
   "cell_type": "code",
   "execution_count": null,
   "id": "1e0ffb13",
   "metadata": {},
   "outputs": [],
   "source": []
  }
 ],
 "metadata": {
  "kernelspec": {
   "display_name": "Python 3 (ipykernel)",
   "language": "python",
   "name": "python3"
  },
  "language_info": {
   "codemirror_mode": {
    "name": "ipython",
    "version": 3
   },
   "file_extension": ".py",
   "mimetype": "text/x-python",
   "name": "python",
   "nbconvert_exporter": "python",
   "pygments_lexer": "ipython3",
   "version": "3.9.7"
  }
 },
 "nbformat": 4,
 "nbformat_minor": 5
}
