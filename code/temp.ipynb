{
 "cells": [
  {
   "cell_type": "code",
   "execution_count": 1,
   "id": "e2a59e86",
   "metadata": {},
   "outputs": [
    {
     "name": "stdout",
     "output_type": "stream",
     "text": [
      "demo.ipynb                  fake_data.fastq\r\n",
      "dna_data_cleaning.ipynb     temp.ipynb\r\n",
      "dnabert_finetune_test.ipynb\r\n"
     ]
    }
   ],
   "source": [
    "!ls"
   ]
  },
  {
   "cell_type": "code",
   "execution_count": 2,
   "id": "74df4521",
   "metadata": {},
   "outputs": [
    {
     "name": "stderr",
     "output_type": "stream",
     "text": [
      "/bin/sh: fastqc: command not found\n",
      "/bin/sh: trimmomatic: command not found\n"
     ]
    },
    {
     "data": {
      "text/plain": [
       "CompletedProcess(args='trimmomatic SE fake_data.fastq path_to_output.fastq LEADING:3 TRAILING:3 SLIDINGWINDOW:4:15 MINLEN:36', returncode=127)"
      ]
     },
     "execution_count": 2,
     "metadata": {},
     "output_type": "execute_result"
    }
   ],
   "source": [
    "import subprocess\n",
    "import random\n",
    "import string\n",
    "\n",
    "# 生成虚拟DNA序列\n",
    "def generate_random_sequence(length):\n",
    "    return ''.join(random.choice('ACGT') for _ in range(length))\n",
    "\n",
    "# 生成虚拟FASTQ文件\n",
    "def generate_fake_fastq_file(filename, num_records, seq_length):\n",
    "    with open(filename, 'w') as f:\n",
    "        for i in range(num_records):\n",
    "            header = f'@SEQ{i+1}'\n",
    "            sequence = generate_random_sequence(seq_length)\n",
    "            quality = ''.join(random.choice(string.ascii_letters) for _ in range(seq_length))\n",
    "            f.write(f'{header}\\n{sequence}\\n+\\n{quality}\\n')\n",
    "\n",
    "# 生成虚拟FASTQ文件\n",
    "generate_fake_fastq_file('fake_data.fastq', num_records=100, seq_length=100)\n",
    "\n",
    "\n",
    "import subprocess\n",
    "\n",
    "# 指定输入的FASTQ文件路径\n",
    "input_fastq = 'fake_data.fastq'\n",
    "\n",
    "# 运行FastQC\n",
    "fastqc_command = f'fastqc {input_fastq}'\n",
    "subprocess.run(fastqc_command, shell=True)\n",
    "\n",
    "# 指定输出的FASTQ文件路径\n",
    "output_fastq = 'path_to_output.fastq'\n",
    "\n",
    "# 运行Trimmomatic\n",
    "trimmomatic_command = f'trimmomatic SE {input_fastq} {output_fastq} LEADING:3 TRAILING:3 SLIDINGWINDOW:4:15 MINLEN:36'\n",
    "subprocess.run(trimmomatic_command, shell=True)\n"
   ]
  }
 ],
 "metadata": {
  "kernelspec": {
   "display_name": "Python 3 (ipykernel)",
   "language": "python",
   "name": "python3"
  },
  "language_info": {
   "codemirror_mode": {
    "name": "ipython",
    "version": 3
   },
   "file_extension": ".py",
   "mimetype": "text/x-python",
   "name": "python",
   "nbconvert_exporter": "python",
   "pygments_lexer": "ipython3",
   "version": "3.9.7"
  }
 },
 "nbformat": 4,
 "nbformat_minor": 5
}
