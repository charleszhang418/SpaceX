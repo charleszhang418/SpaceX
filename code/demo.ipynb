{
 "cells": [
  {
   "cell_type": "code",
   "execution_count": null,
   "metadata": {},
   "outputs": [],
   "source": [
    "def seq2kmer(seq, k):\n",
    "    \"\"\"\n",
    "    Convert original sequence to kmers\n",
    "    \n",
    "    Arguments:\n",
    "    seq -- str, original sequence.\n",
    "    k -- int, kmer of length k specified.\n",
    "    \n",
    "    Returns:\n",
    "    kmers -- str, kmers separated by space\n",
    "\n",
    "    \"\"\"\n",
    "    kmer = [seq[x:x+k] for x in range(len(seq)+1-k)]\n",
    "    kmers = \" \".join(kmer)\n",
    "    return kmers\n",
    "\n",
    "seq = \"ATCCGGG\"\n",
    "k = 3\n",
    "kmers = seq2kmer(seq, k)\n",
    "print(kmers)"
   ]
  },
  {
   "cell_type": "code",
   "execution_count": null,
   "metadata": {},
   "outputs": [],
   "source": [
    "def process(text):\n",
    "    for star in range(0,len(text),510):\n",
    "        seq =  text[start: start+510]\n",
    "        kmers = seq2kmer(seq, 6)\n",
    "        print(kmers)\n",
    "        \n",
    "\n",
    "if __name__==\"__main__\":\n",
    "    if len(sys.argv) != 2:\n",
    "        print \"please input filename\"\n",
    "        sys.exit()\n",
    "    filename = sys.argv[1]\n",
    "    data_file = open(filename, 'r')\n",
    "    text = \"\";\n",
    "    for line in data_file:\n",
    "        line = line.strip()\n",
    "        if line.find(\">\") != 0: #去掉标题行\n",
    "            line = line.upper()\n",
    "            line = line.replace(\" \",\"\").replace(\"N\",\"\") #去掉N和空格\n",
    "            text = text + line\n",
    "            if len(text) > 510*1000:\n",
    "                text = \" \".join(text)\n",
    "                text = text.strip()\n",
    "                process(text)\n",
    "                text = \"\"\n",
    "    #last line\n",
    "    if len(text) <= 510*1000:\n",
    "        pass #不要了"
   ]
  }
 ],
 "metadata": {
  "language_info": {
   "name": "python"
  },
  "orig_nbformat": 4
 },
 "nbformat": 4,
 "nbformat_minor": 2
}
