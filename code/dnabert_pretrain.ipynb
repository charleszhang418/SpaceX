{
  "cells": [
    {
      "cell_type": "code",
      "execution_count": null,
      "metadata": {
        "id": "PpvupVpsvkXr"
      },
      "outputs": [],
      "source": [
        "from google.colab import drive\n",
        "drive.mount('/content/gdrive')"
      ]
    },
    {
      "cell_type": "code",
      "execution_count": null,
      "metadata": {
        "id": "9fHEHnd3vxYs"
      },
      "outputs": [],
      "source": [
        "%cd /content/gdrive/MyDrive/NASA/\n",
        "\n",
        "!ls"
      ]
    },
    {
      "cell_type": "code",
      "source": [
        "!ls"
      ],
      "metadata": {
        "id": "TlL_HP2o26hZ"
      },
      "execution_count": null,
      "outputs": []
    },
    {
      "cell_type": "code",
      "execution_count": null,
      "metadata": {
        "id": "Vdl1xP02v0BC"
      },
      "outputs": [],
      "source": [
        "!pip install transformers\n",
        "!pip install evaluate\n",
        "\n",
        "import pandas as pd\n",
        "import torch\n",
        "from transformers import AutoTokenizer, BertModel\n",
        "from transformers import BertForSequenceClassification, TrainingArguments, Trainer\n",
        "from sklearn.model_selection import train_test_split\n",
        "import evaluate\n",
        "import numpy as np"
      ]
    },
    {
      "cell_type": "code",
      "execution_count": null,
      "metadata": {
        "id": "Tq_dICWZv4hA"
      },
      "outputs": [],
      "source": [
        "dna_data = pd.read_csv('data/dna_data.csv')\n",
        "print(dna_data.shape)\n",
        "dna_data.head()"
      ]
    },
    {
      "cell_type": "code",
      "execution_count": null,
      "metadata": {
        "id": "EQ1DlsnxwE02"
      },
      "outputs": [],
      "source": [
        "# !git clone https://github.com/jerryji1993/DNABERT\n",
        "# %cd DNABERT\n",
        "# !python3 -m pip install --editable .\n",
        "# %cd examples\n",
        "# !python3 -m pip install -r requirements.txt"
      ]
    },
    {
      "cell_type": "code",
      "execution_count": null,
      "metadata": {
        "id": "m3h9L0EI0_Ve"
      },
      "outputs": [],
      "source": [
        "!pip install tensorflow\n",
        "!ls\n",
        "!pwd\n",
        "# !pip install tensorrt\n",
        "%cd .."
      ]
    },
    {
      "cell_type": "code",
      "execution_count": null,
      "metadata": {
        "id": "LWlx3fLLwN1t"
      },
      "outputs": [],
      "source": [
        "%cd NASA/DNABERT/examples\n",
        "\n",
        "%env KMER=6\n",
        "%env TRAIN_FILE=./sample_data/pre/dna_str.txt\n",
        "%env TEST_FILE=./sample_data/pre/dna_str.txt\n",
        "%env SOURCE=/content/gdrive/MyDrive/NASA/DNABERT\n",
        "%env OUTPUT_PATH=/content/gdrive/MyDrive/NASA/DNABERT/output\n",
        "\n",
        "!python run_pretrain.py \\\n",
        "    --output_dir=$OUTPUT_PATH \\\n",
        "    --model_type=dna \\\n",
        "    --tokenizer_name=$SOURCE/src/transformers/dnabert-config/bert-config-$KMER/vocab.txt \\\n",
        "    --config_name=$SOURCE/src/transformers/dnabert-config/bert-config-$KMER/config.json \\\n",
        "    --do_train \\\n",
        "    --train_data_file=$TRAIN_FILE \\\n",
        "    --do_eval \\\n",
        "    --eval_data_file=$TEST_FILE \\\n",
        "    --mlm \\\n",
        "    --gradient_accumulation_steps 25 \\\n",
        "    --per_gpu_train_batch_size 10 \\\n",
        "    --per_gpu_eval_batch_size 6 \\\n",
        "    --save_steps 500 \\\n",
        "    --save_total_limit 20 \\\n",
        "    --max_steps 100 \\\n",
        "    --evaluate_during_training \\\n",
        "    --logging_steps 500 \\\n",
        "    --line_by_line \\\n",
        "    --learning_rate 4e-4 \\\n",
        "    --block_size 64 \\\n",
        "    --adam_epsilon 1e-6 \\\n",
        "    --weight_decay 0.01 \\\n",
        "    --beta1 0.9 \\\n",
        "    --beta2 0.98 \\\n",
        "    --mlm_probability 0.025 \\\n",
        "    --warmup_steps 10000 \\\n",
        "    --overwrite_output_dir \\\n",
        "    --n_process 24"
      ]
    },
    {
      "cell_type": "markdown",
      "metadata": {
        "id": "tBHDr4JEpoVW"
      },
      "source": []
    }
  ],
  "metadata": {
    "colab": {
      "provenance": []
    },
    "kernelspec": {
      "display_name": "Python 3",
      "name": "python3"
    },
    "language_info": {
      "name": "python"
    }
  },
  "nbformat": 4,
  "nbformat_minor": 0
}